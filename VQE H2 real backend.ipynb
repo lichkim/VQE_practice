{
 "cells": [
  {
   "cell_type": "code",
   "execution_count": 1,
   "metadata": {
    "ExecuteTime": {
     "end_time": "2023-07-29T19:21:04.201219Z",
     "start_time": "2023-07-29T19:21:04.156003Z"
    }
   },
   "outputs": [],
   "source": [
    "# Import from Qiskit\n",
    "from qiskit import BasicAer , Aer , IBMQ\n",
    "from qiskit.circuit.library import RealAmplitudes, EfficientSU2, TwoLocal, ExcitationPreserving\n",
    "from qiskit.utils import QuantumInstance\n",
    "# from qiskit.tools.monitor import job_monitor\n",
    "\n",
    "from qiskit.algorithms.optimizers import COBYLA, L_BFGS_B, SLSQP, SPSA\n",
    "from qiskit.opflow import Z2Symmetries\n",
    "from qiskit_nature.second_q.formats.molecule_info import MoleculeInfo\n",
    "#from qiskit.algorithms.minimum_eigensolvers import NumPyMinimumEigensolver\n",
    "from qiskit.algorithms import VQE, NumPyEigensolver, NumPyMinimumEigensolver\n",
    "from qiskit_nature.operators.second_quantization import FermionicOp\n",
    "from qiskit_nature.drivers import UnitsType\n",
    "from qiskit_nature.drivers.second_quantization import PySCFDriver\n",
    "from qiskit_nature.circuit.library import UCCSD, HartreeFock\n",
    "from qiskit_nature.problems.second_quantization.electronic import ElectronicStructureProblem\n",
    "from qiskit_nature.settings import settings\n",
    "from qiskit_nature.mappers.second_quantization import ParityMapper, JordanWignerMapper, BravyiKitaevMapper\n",
    "from qiskit_nature.converters.second_quantization import QubitConverter\n",
    "from qiskit_nature.second_q.transformers import FreezeCoreTransformer\n",
    "\n",
    "# Import from other python libraries\n",
    "import numpy as np\n",
    "import matplotlib . pyplot as plt\n",
    "import pylab as py"
   ]
  },
  {
   "cell_type": "code",
   "execution_count": 2,
   "metadata": {},
   "outputs": [
    {
     "name": "stderr",
     "output_type": "stream",
     "text": [
      "/root/.local/lib/python3.7/site-packages/ipykernel_launcher.py:2: DeprecationWarning: The package qiskit.providers.ibmq is being deprecated. Please see https://ibm.biz/provider_migration_guide to get instructions on how to migrate to qiskit-ibm-provider (https://github.com/Qiskit/qiskit-ibm-provider) and qiskit-ibm-runtime (https://github.com/Qiskit/qiskit-ibm-runtime).\n",
      "  \n",
      "/root/.local/lib/python3.7/site-packages/ipykernel_launcher.py:2: DeprecationWarning: The qiskit.IBMQ entrypoint and the qiskit-ibmq-provider package (accessible from 'qiskit.providers.ibmq`) are deprecated and will be removed in a future release. Instead you should use the qiskit-ibm-provider package which is accessible from 'qiskit_ibm_provider'. You can install it with 'pip install qiskit_ibm_provider'. Just replace 'qiskit.IBMQ' with 'qiskit_ibm_provider.IBMProvider'\n",
      "  \n"
     ]
    },
    {
     "data": {
      "text/plain": [
       "<AccountProvider for IBMQ(hub='ibm-q', group='open', project='main')>"
      ]
     },
     "execution_count": 2,
     "metadata": {},
     "output_type": "execute_result"
    }
   ],
   "source": [
    "# IBMQ.save_account(TOKEN)\n",
    "IBMQ.load_account()"
   ]
  },
  {
   "cell_type": "code",
   "execution_count": 3,
   "metadata": {},
   "outputs": [
    {
     "name": "stdout",
     "output_type": "stream",
     "text": [
      "backend name \t num_qubits\n",
      "ibmq_qasm_simulator 32\n",
      "ibmq_kolkata 27\n",
      "ibmq_mumbai 27\n",
      "ibmq_guadalupe 16\n",
      "simulator_statevector 32\n",
      "simulator_mps 100\n",
      "simulator_extended_stabilizer 63\n",
      "simulator_stabilizer 5000\n",
      "ibm_hanoi 27\n",
      "ibm_algiers 27\n",
      "ibm_lagos 7\n",
      "ibm_nairobi 7\n",
      "ibm_cairo 27\n",
      "ibm_auckland 27\n",
      "ibm_perth 7\n",
      "ibm_sherbrooke 127\n",
      "ibm_brisbane 127\n",
      "ibm_nazca 127\n",
      "ibm_cusco 127\n"
     ]
    }
   ],
   "source": [
    "provider = IBMQ.get_provider(hub='ibm-q-skku')\n",
    "print(\"backend name \\t num_qubits\")\n",
    "for backend in provider.backends():\n",
    "    print(backend, backend.configuration().n_qubits)"
   ]
  },
  {
   "cell_type": "code",
   "execution_count": 4,
   "metadata": {},
   "outputs": [
    {
     "name": "stdout",
     "output_type": "stream",
     "text": [
      "None\n"
     ]
    },
    {
     "name": "stderr",
     "output_type": "stream",
     "text": [
      "/usr/local/lib/python3.7/site-packages/pyscf/dft/libxc.py:771: UserWarning: Since PySCF-2.3, B3LYP (and B3P86) are changed to the VWN-RPA variant, corresponding to the original definition by Stephens et al. (issue 1480) and the same as the B3LYP functional in Gaussian. To restore the VWN5 definition, you can put the setting \"B3LYP_WITH_VWN5 = True\" in pyscf_conf.py\n",
      "  warnings.warn('Since PySCF-2.3, B3LYP (and B3P86) are changed to the VWN-RPA variant, '\n"
     ]
    }
   ],
   "source": [
    "dist = 0.74\n",
    "basis ='sto3g '\n",
    "driver = PySCFDriver ( atom =\"H .0 .0 .0; H .0 .0 \" + str( dist ),\n",
    "                       unit = UnitsType. ANGSTROM , \n",
    "                       charge =0, spin =0, basis = basis )\n",
    "settings.dict_aux_operators = True\n",
    "\n",
    "\n",
    "problem = ElectronicStructureProblem(driver)\n",
    "second_q_ops = problem.second_q_ops()\n",
    "print(problem.grouped_property_transformed.get_property(\"num_particles\"))"
   ]
  },
  {
   "cell_type": "code",
   "execution_count": 5,
   "metadata": {},
   "outputs": [
    {
     "name": "stderr",
     "output_type": "stream",
     "text": [
      "/root/.local/lib/python3.7/site-packages/ipykernel_launcher.py:20: DeprecationWarning: The class ``qiskit.utils.quantum_instance.QuantumInstance`` is deprecated as of qiskit-terra 0.24.0. It will be removed no earlier than 3 months after the release date. For code migration guidelines, visit https://qisk.it/qi_migration.\n",
      "/root/.local/lib/python3.7/site-packages/ipykernel_launcher.py:21: DeprecationWarning: The class ``qiskit.utils.quantum_instance.QuantumInstance`` is deprecated as of qiskit-terra 0.24.0. It will be removed no earlier than 3 months after the release date. For code migration guidelines, visit https://qisk.it/qi_migration.\n",
      "/root/.local/lib/python3.7/site-packages/ipykernel_launcher.py:22: DeprecationWarning: The class ``qiskit.utils.quantum_instance.QuantumInstance`` is deprecated as of qiskit-terra 0.24.0. It will be removed no earlier than 3 months after the release date. For code migration guidelines, visit https://qisk.it/qi_migration.\n",
      "/root/.local/lib/python3.7/site-packages/ipykernel_launcher.py:23: DeprecationWarning: The class ``qiskit.utils.quantum_instance.QuantumInstance`` is deprecated as of qiskit-terra 0.24.0. It will be removed no earlier than 3 months after the release date. For code migration guidelines, visit https://qisk.it/qi_migration.\n"
     ]
    }
   ],
   "source": [
    "basis ='sto3g '\n",
    "#basis ='4-31G'\n",
    "#사용할 환경을 결정한다.\n",
    "# Simulators\n",
    "SV = \" statevector \"\n",
    "QA = \" qasm \"\n",
    "AS = \" aer\"\n",
    "\n",
    "#Real Backend\n",
    "RM = \" real\"\n",
    "\n",
    "# Optimizers\n",
    "CO = \" COBYLA \"\n",
    "BF = \" L_BFGS_B \"\n",
    "SL = \" SLSQP \"\n",
    "SP = \" SPSA \"\n",
    "\n",
    "# Quantum Instances for running the quantum circuit\n",
    "quantum_instances = {\n",
    "SV: QuantumInstance ( backend = Aer . get_backend ('statevector_simulator')),\n",
    "QA: QuantumInstance ( backend = Aer. get_backend ('qasm_simulator')),\n",
    "AS: QuantumInstance ( backend = Aer. get_backend ('aer_simulator')),\n",
    "RM: QuantumInstance ( backend = provider.get_backend('ibmq_guadalupe'))}\n",
    "\n",
    "# Classical Optimizers for parameter minimization\n",
    "#최대 작업수\n",
    "MAX_ITER = 250\n",
    "optimizers = {\n",
    "#CO잘됨\n",
    "CO: COBYLA ( maxiter = MAX_ITER ),\n",
    "#BF 잘안됨\n",
    "BF: L_BFGS_B ( maxiter = MAX_ITER ),\n",
    "#SL 잘안됨\n",
    "SL: SLSQP ( maxiter = MAX_ITER ),\n",
    "#SP 잘됨\n",
    "SP: SPSA ( maxiter = MAX_ITER) }\n",
    "# Quantum simulator\n",
    "quantum_instance = quantum_instances [RM]\n",
    "# Classical optimizer .\n",
    "optimizer = optimizers [CO]\n",
    "\n",
    "intermediate_info = {\n",
    "'nfev ': [],\n",
    "'parameters ': [],\n",
    "'energy ': [],\n",
    "'stddev ': []\n",
    "}\n",
    "#각 iteration에서 정보를 저장하는 함수\n",
    "def callback (nfev , parameters , energy , stddev ):\n",
    "    intermediate_info ['nfev ']. append ( nfev )\n",
    "    intermediate_info ['parameters ']. append ( parameters )\n",
    "    intermediate_info ['energy ']. append ( energy )\n",
    "    intermediate_info ['stddev ']. append ( stddev )\n",
    "    \n",
    "d_arr =[]\n",
    "e_arr =[]\n",
    "t0_arr = []\n",
    "t1_arr = []\n",
    "t2_arr = []\n",
    "exact_arr = []\n",
    "repulsive_arr = []\n",
    "qoulomb_arr = []\n",
    "\n",
    "def exact_solver(qubit_op, problem):\n",
    "    sol = NumPyMinimumEigensolver().compute_minimum_eigenvalue(qubit_op)\n",
    "    result = problem.interpret(sol)\n",
    "    return result\n"
   ]
  },
  {
   "cell_type": "markdown",
   "metadata": {},
   "source": [
    "### Queue가 너무 오래걸려서... dist별로 에너지의 최솟값을 뽑는건 할 수 없었음\n",
    "### 대신, dist=0.74로 고정하고, 이 때의 에너지의 최솟값을 뽑는걸로 하되, VQE로 Ground state를 구했을 때 initial Energy와 얼마나 차이나는지를 비교해보자."
   ]
  },
  {
   "cell_type": "code",
   "execution_count": 6,
   "metadata": {},
   "outputs": [
    {
     "name": "stderr",
     "output_type": "stream",
     "text": [
      "/root/.local/lib/python3.7/site-packages/ipykernel_launcher.py:22: DeprecationWarning: The class ``qiskit.algorithms.minimum_eigen_solvers.vqe.VQE`` is deprecated as of qiskit-terra 0.24.0. It will be removed no earlier than 3 months after the release date. Instead, use the class ``qiskit.algorithms.minimum_eigensolvers.VQE``. See https://qisk.it/algo_migration for a migration guide.\n",
      "/root/.local/lib/python3.7/site-packages/ipykernel_launcher.py:65: DeprecationWarning: The class ``qiskit.algorithms.minimum_eigen_solvers.numpy_minimum_eigen_solver.NumPyMinimumEigensolver`` is deprecated as of qiskit-terra 0.24.0. It will be removed no earlier than 3 months after the release date. Instead, use the class ``qiskit.algorithms.minimum_eigensolvers.NumPyMinimumEigensolver``. See https://qisk.it/algo_migration for a migration guide.\n"
     ]
    },
    {
     "data": {
      "image/png": "[encoded data removed]",
      "text/plain": [
       "<Figure size 640x480 with 1 Axes>"
      ]
     },
     "metadata": {},
     "output_type": "display_data"
    }
   ],
   "source": [
    "dist = 0.74\n",
    "mapper = JordanWignerMapper()\n",
    "converter = QubitConverter(mapper=mapper, two_qubit_reduction=True)\n",
    "freeze_core=True\n",
    "\n",
    "\n",
    "driver = PySCFDriver ( atom =\"H .0 .0 .0; H .0 .0 \" + str( dist ), unit = UnitsType. ANGSTROM , charge =0, spin =0, basis = basis )\n",
    "settings.dict_aux_operators = True\n",
    "\n",
    "problem = ElectronicStructureProblem(driver)\n",
    "second_q_ops = problem.second_q_ops()\n",
    "FermionicOp.set_truncation(0)\n",
    "main_op = second_q_ops['ElectronicEnergy']\n",
    "\n",
    "particle_number = problem.grouped_property_transformed.get_property(\"ParticleNumber\")\n",
    "num_particles = (particle_number.num_alpha, particle_number.num_beta)\n",
    "num_orbitals = particle_number.num_spin_orbitals\n",
    "qubitOp = converter.convert(main_op, num_particles=num_particles,)\n",
    "\n",
    "init_state = HartreeFock(num_orbitals, num_particles, converter)\n",
    "ansatz = UCCSD(qubit_converter=converter, num_particles=num_particles, num_spin_orbitals=num_orbitals, initial_state=init_state)\n",
    "vqe = VQE(ansatz , optimizer , callback = callback, quantum_instance = quantum_instance )\n",
    "\n",
    "result = vqe.compute_minimum_eigenvalue(qubitOp)\n",
    "electronic_structure_result = problem.interpret(result)\n",
    "#핵 간의 밀어내는 에너지를 얻어낸다. (이는 전자의 구조에 의해 변하지 않는 일정한 값이다.)\n",
    "shift = electronic_structure_result.nuclear_repulsion_energy\n",
    "#최종 에너지 계산값\n",
    "vqe_result = result.eigenvalue.real #+shift\n",
    "qoulomb = vqe_result\n",
    "repulsion = shift\n",
    "energy = qoulomb + repulsion\n",
    "exact_energy = exact_solver(qubitOp, problem).total_energies[0].real\n",
    "qoulomb_arr.append(qoulomb)\n",
    "repulsive_arr.append(repulsion)\n",
    "d_arr.append(dist)\n",
    "exact_arr.append(exact_energy)\n",
    "\n",
    "\n",
    "plt.plot(intermediate_info['energy '])\n",
    "plt.axhline(y = exact_arr[-1], color = 'r', linewidth = 1, label = 'exact energy')\n",
    "plt.xlabel('VQE Iterations')\n",
    "plt.ylabel('Energy')\n",
    "plt.grid()\n",
    "plt.legend()\n",
    "plt.show()\n",
    "\n",
    "\n",
    "#plt.plot(d_arr,qoulomb_arr,label ='vqe_result')\n",
    "#plt.plot(d_arr,repulsive_arr, label = 'repulsion')\n",
    "# plt.scatter(d_arr,e_arr,marker='x', label = 'VQE Energy')\n",
    "# plt.plot(d_arr,exact_arr,label = 'exact energy',color='red')\n",
    "# plt.grid()\n",
    "# plt.legend()\n",
    "# plt.xlabel(\"dist(angstrom)\")\n",
    "# plt.ylabel('energy')\n",
    "# plt.show()"
   ]
  },
  {
   "cell_type": "code",
   "execution_count": 13,
   "metadata": {},
   "outputs": [
    {
     "data": {
      "image/png": "[encoded data removed]",
      "text/plain": [
       "<Figure size 640x480 with 1 Axes>"
      ]
     },
     "metadata": {},
     "output_type": "display_data"
    },
    {
     "name": "stdout",
     "output_type": "stream",
     "text": [
      "0.7151043390810812 -1.1372838344885012 -0.19310199096338931\n"
     ]
    }
   ],
   "source": [
    "plt.plot(intermediate_info['energy '] + repulsion, label = 'vqe result + repulsion')\n",
    "plt.axhline(y = exact_arr[-1], color = 'r', linewidth = 1, label = 'exact energy')\n",
    "plt.xlabel('VQE Iterations')\n",
    "plt.ylabel('Energy')\n",
    "plt.grid()\n",
    "plt.legend()\n",
    "plt.show()\n",
    "print(repulsion, exact_arr[-1], intermediate_info['energy '][-1] + repulsion)"
   ]
  },
  {
   "cell_type": "code",
   "execution_count": null,
   "metadata": {},
   "outputs": [],
   "source": [
    "plt.plot(d_arr,qoulomb_arr,label ='attractive energy + nuclei energy')\n",
    "plt.plot(d_arr,repulsive_arr, label = 'repulsion')\n",
    "plt.plot(d_arr,e_arr, label = 'VQE Energy')\n",
    "\n",
    "plt.grid()\n",
    "plt.legend()\n",
    "plt.xlabel(\"dist(angstrom)\")\n",
    "plt.ylabel('energy')\n",
    "plt.show()"
   ]
  },
  {
   "cell_type": "code",
   "execution_count": null,
   "metadata": {},
   "outputs": [],
   "source": [
    "print(len(intermediate_info['parameters '][0]))"
   ]
  },
  {
   "cell_type": "code",
   "execution_count": null,
   "metadata": {},
   "outputs": [],
   "source": [
    "12000/92"
   ]
  },
  {
   "cell_type": "code",
   "execution_count": null,
   "metadata": {},
   "outputs": [],
   "source": []
  }
 ],
 "metadata": {
  "kernelspec": {
   "display_name": "Python 3",
   "language": "python",
   "name": "python3"
  },
  "language_info": {
   "codemirror_mode": {
    "name": "ipython",
    "version": 3
   },
   "file_extension": ".py",
   "mimetype": "text/x-python",
   "name": "python",
   "nbconvert_exporter": "python",
   "pygments_lexer": "ipython3",
   "version": "3.7.4"
  },
  "vscode": {
   "interpreter": {
    "hash": "916dbcbb3f70747c44a77c7bcd40155683ae19c65e1c03b4aa3499c5328201f1"
   }
  }
 },
 "nbformat": 4,
 "nbformat_minor": 2
}
